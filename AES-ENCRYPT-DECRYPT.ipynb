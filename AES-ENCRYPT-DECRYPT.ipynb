{
 "cells": [
  {
   "cell_type": "code",
   "execution_count": 3,
   "id": "13cbe256",
   "metadata": {},
   "outputs": [
    {
     "name": "stdout",
     "output_type": "stream",
     "text": [
      "Encryption key: b'5db345d704c10845cf05ba5055a5d1d8382829890c0590b51fe853cdcc5bcc29'\n",
      "encryptedMsg {'ciphertext': b'880269e882f229b72863fa4d0423bcea4bf7ac22f8dc01c25bd3ba4879e82094f95d286b01f9318f638bd1', 'aesIV': b'c612a8206f51197e5499c9fa1004b2a7', 'authTag': b'db740e232f970611bc2e59247af16b8b'}\n",
      "decryptedMsg b'Message for AES-256-GCM + Scrypt encryption'\n"
     ]
    }
   ],
   "source": [
    "from Crypto.Cipher import AES\n",
    "import binascii, os\n",
    "\n",
    "def encrypt_AES_GCM(msg, secretKey):\n",
    "    aesCipher = AES.new(secretKey, AES.MODE_GCM)\n",
    "    ciphertext, authTag = aesCipher.encrypt_and_digest(msg)\n",
    "    return (ciphertext, aesCipher.nonce, authTag)\n",
    "\n",
    "def decrypt_AES_GCM(encryptedMsg, secretKey):\n",
    "    (ciphertext, nonce, authTag) = encryptedMsg\n",
    "    aesCipher = AES.new(secretKey, AES.MODE_GCM, nonce)\n",
    "    plaintext = aesCipher.decrypt_and_verify(ciphertext, authTag)\n",
    "    return plaintext\n",
    "\n",
    "secretKey = os.urandom(32)  # 256-bit random encryption key\n",
    "print(\"Encryption key:\", binascii.hexlify(secretKey))\n",
    "\n",
    "msg = b'Message for AES-256-GCM + Scrypt encryption'\n",
    "encryptedMsg = encrypt_AES_GCM(msg, secretKey)\n",
    "print(\"encryptedMsg\", {\n",
    "    'ciphertext': binascii.hexlify(encryptedMsg[0]),\n",
    "    'aesIV': binascii.hexlify(encryptedMsg[1]),\n",
    "    'authTag': binascii.hexlify(encryptedMsg[2])\n",
    "})\n",
    "\n",
    "decryptedMsg = decrypt_AES_GCM(encryptedMsg, secretKey)\n",
    "print(\"decryptedMsg\", decryptedMsg)"
   ]
  },
  {
   "cell_type": "code",
   "execution_count": 4,
   "id": "c558fa43",
   "metadata": {},
   "outputs": [
    {
     "name": "stdout",
     "output_type": "stream",
     "text": [
      "AES encryption key: b'a323abb5cb2b933a612f2747f6707c4f1c6bfaf434a5089d43f75c2362313fa2'\n"
     ]
    }
   ],
   "source": [
    "#Simple AES-CTR Example\n",
    "import pyaes, pbkdf2, binascii, os, secrets\n",
    "\n",
    "# Derive a 256-bit AES encryption key from the password\n",
    "password = \"s3cr3t*c0d3\"\n",
    "passwordSalt = os.urandom(16)\n",
    "key = pbkdf2.PBKDF2(password, passwordSalt).read(32)\n",
    "print('AES encryption key:', binascii.hexlify(key))"
   ]
  },
  {
   "cell_type": "code",
   "execution_count": 5,
   "id": "e57e6c88",
   "metadata": {},
   "outputs": [
    {
     "name": "stdout",
     "output_type": "stream",
     "text": [
      "Encrypted: b'be30a1e27226361b875f58b9831a341b67f5c4'\n"
     ]
    }
   ],
   "source": [
    "# AES Encryption (CTR Block Mode)\n",
    "# Encrypt the plaintext with the given key:\n",
    "#   ciphertext = AES-256-CTR-Encrypt(plaintext, key, iv)\n",
    "iv = secrets.randbits(256)\n",
    "plaintext = \"Text for encryption\"\n",
    "aes = pyaes.AESModeOfOperationCTR(key, pyaes.Counter(iv))\n",
    "ciphertext = aes.encrypt(plaintext)\n",
    "print('Encrypted:', binascii.hexlify(ciphertext))"
   ]
  },
  {
   "cell_type": "code",
   "execution_count": 6,
   "id": "d87aaa20",
   "metadata": {},
   "outputs": [
    {
     "name": "stdout",
     "output_type": "stream",
     "text": [
      "Decrypted: b'Text for encryption'\n"
     ]
    }
   ],
   "source": [
    "# AES Decryption (CTR Block Mode)\n",
    "# Decrypt the ciphertext with the given key:\n",
    "#   plaintext = AES-256-CTR-Decrypt(ciphertext, key, iv)\n",
    "aes = pyaes.AESModeOfOperationCTR(key, pyaes.Counter(iv))\n",
    "decrypted = aes.decrypt(ciphertext)\n",
    "print('Decrypted:', decrypted)"
   ]
  }
 ],
 "metadata": {
  "kernelspec": {
   "display_name": "Python 3 (ipykernel)",
   "language": "python",
   "name": "python3"
  },
  "language_info": {
   "codemirror_mode": {
    "name": "ipython",
    "version": 3
   },
   "file_extension": ".py",
   "mimetype": "text/x-python",
   "name": "python",
   "nbconvert_exporter": "python",
   "pygments_lexer": "ipython3",
   "version": "3.9.10"
  }
 },
 "nbformat": 4,
 "nbformat_minor": 5
}
