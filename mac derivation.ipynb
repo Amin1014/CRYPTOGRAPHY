{
 "cells": [
  {
   "cell_type": "code",
   "execution_count": 1,
   "id": "d4649f56",
   "metadata": {},
   "outputs": [
    {
     "name": "stdout",
     "output_type": "stream",
     "text": [
      "b'32885b49c8a1009e6d66662f8462e7dd5df769a7b725d1d546574e6d5d6e76ad'\n"
     ]
    }
   ],
   "source": [
    "# MAC AUTHENTICATION CODE IN PYTHON\n",
    "import hashlib, hmac, binascii\n",
    "\n",
    "mac = hmac.new(b'key', b'some msg', hashlib.sha256).digest()\n",
    "print(binascii.hexlify(mac))"
   ]
  },
  {
   "cell_type": "code",
   "execution_count": 2,
   "id": "4b112bc2",
   "metadata": {},
   "outputs": [
    {
     "name": "stdout",
     "output_type": "stream",
     "text": [
      "The hexadecimal equivalent of SHA256 is : \n",
      "132518bf532fda47c67a7320ee334c6c2ab808038fbdfcd93f0b3a971a2542d1\n",
      "\n",
      "The hexadecimal equivalent of SHA384 is : \n",
      "99d3b3207db822a8e43b90f3c15ac4389d6a96dde4c56bc817df828dd6ed0930aeb73eed71324c709da46d401eaa6c91\n",
      "\n",
      "The hexadecimal equivalent of SHA224 is : \n",
      "c0ab5bcb32efe2113bdf998634099ee81fff2e0bde80d0498c860731\n",
      "\n",
      "The hexadecimal equivalent of SHA512 is : \n",
      "fbcde751e0953a7d0e33fce5fcc66cb2d32e44a55cf75dfbc1bcffcf3e8db6d647cbec95d4050bd91b044ea122dc5237bbed7e0e33f1cad4f11662d21f76218b\n",
      "\n",
      "The hexadecimal equivalent of SHA1 is : \n",
      "7de9d1cf15c87156bc35b9ce1529bb3c3ab643b0\n"
     ]
    }
   ],
   "source": [
    "#SECURE HASH ALGORITHM\n",
    "# Python 3 code to demonstrate\n",
    "# SHA hash algorithms.\n",
    "\n",
    "import hashlib\n",
    "\n",
    "# initializing string\n",
    "str = \"Mohamed Amin\"\n",
    "\n",
    "# encoding GeeksforGeeks using encode()\n",
    "# then sending to SHA256()\n",
    "result = hashlib.sha256(str.encode())\n",
    "\n",
    "# printing the equivalent hexadecimal value.\n",
    "print(\"The hexadecimal equivalent of SHA256 is : \")\n",
    "print(result.hexdigest())\n",
    "\n",
    "print (\"\\r\")\n",
    "\n",
    "# initializing string\n",
    "str = \"Mohamed Amin\"\n",
    "\n",
    "# encoding GeeksforGeeks using encode()\n",
    "# then sending to SHA384()\n",
    "result = hashlib.sha384(str.encode())\n",
    "\n",
    "# printing the equivalent hexadecimal value.\n",
    "print(\"The hexadecimal equivalent of SHA384 is : \")\n",
    "print(result.hexdigest())\n",
    "\n",
    "print (\"\\r\")\n",
    "\n",
    "# initializing string\n",
    "str = \"Mohamed Amin\"\n",
    "\n",
    "# encoding GeeksforGeeks using encode()\n",
    "# then sending to SHA224()\n",
    "result = hashlib.sha224(str.encode())\n",
    "\n",
    "# printing the equivalent hexadecimal value.\n",
    "print(\"The hexadecimal equivalent of SHA224 is : \")\n",
    "print(result.hexdigest())\n",
    "\n",
    "print (\"\\r\")\n",
    "\n",
    "# initializing string\n",
    "str = \"Mohamed Amin\"\n",
    "\n",
    "# encoding GeeksforGeeks using encode()\n",
    "# then sending to SHA512()\n",
    "result = hashlib.sha512(str.encode())\n",
    "\n",
    "# printing the equivalent hexadecimal value.\n",
    "print(\"The hexadecimal equivalent of SHA512 is : \")\n",
    "print(result.hexdigest())\n",
    "\n",
    "print (\"\\r\")\n",
    "\n",
    "# initializing string\n",
    "str = \"Mohamed Amin\"\n",
    "\n",
    "# encoding GeeksforGeeks using encode()\n",
    "# then sending to SHA1()\n",
    "result = hashlib.sha1(str.encode())\n",
    "\n",
    "# printing the equivalent hexadecimal value.\n",
    "print(\"The hexadecimal equivalent of SHA1 is : \")\n",
    "print(result.hexdigest())\n"
   ]
  },
  {
   "cell_type": "code",
   "execution_count": null,
   "id": "4978ea18",
   "metadata": {},
   "outputs": [],
   "source": []
  }
 ],
 "metadata": {
  "kernelspec": {
   "display_name": "Python 3 (ipykernel)",
   "language": "python",
   "name": "python3"
  },
  "language_info": {
   "codemirror_mode": {
    "name": "ipython",
    "version": 3
   },
   "file_extension": ".py",
   "mimetype": "text/x-python",
   "name": "python",
   "nbconvert_exporter": "python",
   "pygments_lexer": "ipython3",
   "version": "3.9.10"
  }
 },
 "nbformat": 4,
 "nbformat_minor": 5
}
