{
 "cells": [
  {
   "cell_type": "code",
   "execution_count": 2,
   "id": "4d00fa80",
   "metadata": {},
   "outputs": [
    {
     "name": "stdout",
     "output_type": "stream",
     "text": [
      "1647355400.6654122|0 17827646390515255683790757443067495380389107548237651583707291343575655755784 --> 13\n",
      "1647355400.6654122|1 99691631648585847805298290668742068466095411601914351775742345106992260179764 --> 15\n",
      "1647355400.6654122|2 38020480804980351743418718925990486685155541785995660908542383691977001160788 --> 18\n",
      "1647355400.6654122|3 27377772351758541196626610091199552122193558083609094886770262289125443214585 --> 19\n",
      "1647355400.6654122|4 7968646703894115633793357986492862588828686147381035552915532868279239565392 --> 17\n"
     ]
    }
   ],
   "source": [
    "##PSEUDORANDOM NUMBERS\n",
    "import hashlib, time \n",
    "startSeed = str(time.time()) + '|'\n",
    "min = 10\n",
    "max = 20\n",
    "\n",
    "for i in range(5):\n",
    "    nextSeed = startSeed + str(i)\n",
    "    hash = hashlib.sha256(nextSeed.encode('ascii')).digest()\n",
    "    bigRand = int.from_bytes(hash, 'big')\n",
    "    rand = min + bigRand % (max - min + 1)\n",
    "    print(nextSeed, bigRand, '-->', rand)"
   ]
  },
  {
   "cell_type": "code",
   "execution_count": 5,
   "id": "d055c8f6",
   "metadata": {},
   "outputs": [
    {
     "name": "stdout",
     "output_type": "stream",
     "text": [
      "Enter something [1 of 10]: 6\n",
      "Enter something [2 of 10]: 7\n",
      "Enter something [3 of 10]: 8]\n",
      "Enter something [4 of 10]: 8y7\n",
      "Enter something [5 of 10]: t9\n",
      "Enter something [6 of 10]: bi\n",
      "Enter something [7 of 10]: bi\n",
      "Enter something [8 of 10]: biboi\n",
      "Enter something [9 of 10]: xgx\n",
      "Enter something [10 of 10]: gu\n",
      "Entropy: 6|1647356357.847759|7|1647356358.479614|8]|1647356359.3735769|8y7|1647356360.560717|t9|1647356361.463532|bi|1647356362.132525|bi|1647356362.942793|biboi|1647356365.236501|xgx|1647356366.1745641|gu|1647356368.10115|\n",
      "Start seed = SHA-256(entropy) = fa3e2683284a5a2e4cdbc6a9f1dc5ef99111c8e2b587fcb3f8875c2f34096b16\n",
      "fa3e2683284a5a2e4cdbc6a9f1dc5ef99111c8e2b587fcb3f8875c2f34096b16|0 78301152631343446812267625564029091420497015927795540226937995200744293212916 --> 163\n",
      "fa3e2683284a5a2e4cdbc6a9f1dc5ef99111c8e2b587fcb3f8875c2f34096b16|1 25183122281108218327134465731298190982380926424149040648449125704830173078385 --> 150\n",
      "fa3e2683284a5a2e4cdbc6a9f1dc5ef99111c8e2b587fcb3f8875c2f34096b16|2 68945827251030896565634191496076455973054310365641100545916484969589292795175 --> 142\n",
      "fa3e2683284a5a2e4cdbc6a9f1dc5ef99111c8e2b587fcb3f8875c2f34096b16|3 77943159443401209286062673058423792895131793383196751593275366561788862262540 --> 176\n",
      "fa3e2683284a5a2e4cdbc6a9f1dc5ef99111c8e2b587fcb3f8875c2f34096b16|4 112376688984507416988710242792218364970272303913135779633899596634407624262370 --> 143\n"
     ]
    }
   ],
   "source": [
    "### CREATING A SECURE RANDOM GENERATOR\n",
    "import hashlib, time, binascii\n",
    "\n",
    "entropy = ''\n",
    "for i in range(10):\n",
    "    s = input(\"Enter something [\" + str(i+1) + \" of 10]: \")\n",
    "    entropy = entropy + s + '|' + str(time.time()) + '|'\n",
    "print(\"Entropy:\", entropy)\n",
    "startSeed = str(binascii.hexlify(hashlib.sha256(entropy.encode('ascii')).digest()))[2:-1]\n",
    "print(\"Start seed = SHA-256(entropy) =\", startSeed)\n",
    "\n",
    "min = 100\n",
    "max = 200\n",
    "for i in range(5):\n",
    "    nextSeed = startSeed + '|' + str(i)\n",
    "    hash = hashlib.sha256(nextSeed.encode('ascii')).digest()\n",
    "    bigRand = int.from_bytes(hash, 'big')\n",
    "    rand = min + bigRand % (max - min + 1)\n",
    "    print(nextSeed, bigRand, '-->', rand)\n"
   ]
  },
  {
   "cell_type": "code",
   "execution_count": 6,
   "id": "bd736392",
   "metadata": {},
   "outputs": [
    {
     "name": "stdout",
     "output_type": "stream",
     "text": [
      "Alice public key: 0x86b280661c71bbf4796646c8fdccae543eddba473c600f4fadaeb02a948b6ae709caf7d22123014d56220ee30a949a73d5c68d94abf4351d6df710f4615b30e10d63f350f440808c61f59edc272ddd51d26e55e045525c0389735db2263c3e6febf0ec0221f492f42a835ab494e2314b953df9478c2999284beead9b114f31e840b78c30d79a1f54a5a2df3e655cb090da247c9323a908f0703a42cff80d027a6e247bdc3d0d1d642f52fc3d9af95a7336e493f1d85d623cf4d40779fb381162fb633ff13252829956909510beba91d15bf3ad08668b89e94f8559b374b01175051d0fdb706432e4d5e8026e81410b9c38fb069118749631c30521588f124825\n",
      "Bob public key: 0xda718d1346638d50b914428355bb7073405dcf92f1c6de07c08b309cf06eb4188d6d7b3e425ecfe70116ec6a526a54a4ed6a793ecb01513d77ad88232234a765006286f30ac10f051b9cbd5222aea2e16519f124cff7ebf92cd6c0ab9c16b439f52f81a78276f29433ad52c73b7da51678e80ad40bdf833f2f371d93175ded02f3acc2feca2e21a57b3f1117a3d8d7b641d0f9a847ba649d8be86c2372b55e3ef50756ee162e3f8080c141f0280d9c1907522a74d3a4293ae92fcd7dcb8010d72b2d052af58ef29bc008aa2afd650cf6b52c0c2d65e92e69e775ab702f3d11fac795d5b7b4aec6e4ed521fc6707488ded0fde0240127df07735b0a0bc6cc7a5d\n",
      "Now exchange the public keys (e.g. through Internet)\n",
      "Alice shared key: 0x3072296f482b18905c5829d0e9fb5ec54bc007d5f07db505037f0453520823211689d630edb6dc5e983735c54571c32e321c61337ac36f4a3ce824c9ebd471a58d0c191dc0e81a74fbcf8688cf94317acd7c65b98b1838ab323c83b8d3c55da5218701dd6d0afa2330eae1485a3320ade5db44f37beddddab8098f6d5d2dcacde3fedae52e69977f47dd8408f6d11ad4f9d5ced19376637732734a0da6c584788987120772bcf966ef098867dfe70efbb1825f21336b01e20a7f4c5f2bf0d195f71623fd55036f35957656417034260b6707c014f153559305981b50b72c308e598c38b83a0d5d25e5fd5c5ecd811346a27356b42d5fa112fe514b848712ddd\n",
      "Bob shared key: 0x3072296f482b18905c5829d0e9fb5ec54bc007d5f07db505037f0453520823211689d630edb6dc5e983735c54571c32e321c61337ac36f4a3ce824c9ebd471a58d0c191dc0e81a74fbcf8688cf94317acd7c65b98b1838ab323c83b8d3c55da5218701dd6d0afa2330eae1485a3320ade5db44f37beddddab8098f6d5d2dcacde3fedae52e69977f47dd8408f6d11ad4f9d5ced19376637732734a0da6c584788987120772bcf966ef098867dfe70efbb1825f21336b01e20a7f4c5f2bf0d195f71623fd55036f35957656417034260b6707c014f153559305981b50b72c308e598c38b83a0d5d25e5fd5c5ecd811346a27356b42d5fa112fe514b848712ddd\n",
      "Equal shared keys: True\n"
     ]
    }
   ],
   "source": [
    "### DIFIIE HELMAN KEY EXCHANGE \n",
    "import pyDHE\n",
    "\n",
    "alice = pyDHE.new()\n",
    "alicePubKey = alice.getPublicKey()\n",
    "print(\"Alice public key:\", hex(alicePubKey))\n",
    "\n",
    "bob = pyDHE.new()\n",
    "bobPubKey = bob.getPublicKey()\n",
    "print(\"Bob public key:\", hex(bobPubKey))\n",
    "\n",
    "print(\"Now exchange the public keys (e.g. through Internet)\")\n",
    "\n",
    "aliceSharedKey = alice.update(bobPubKey)\n",
    "print(\"Alice shared key:\", hex(aliceSharedKey))\n",
    "\n",
    "bobSharedKey = bob.update(alicePubKey)\n",
    "print(\"Bob shared key:\", hex(bobSharedKey))\n",
    "\n",
    "print(\"Equal shared keys:\", aliceSharedKey == bobSharedKey)\n"
   ]
  },
  {
   "cell_type": "code",
   "execution_count": null,
   "id": "ec753a96",
   "metadata": {},
   "outputs": [],
   "source": []
  },
  {
   "cell_type": "code",
   "execution_count": null,
   "id": "07399f7d",
   "metadata": {},
   "outputs": [],
   "source": []
  }
 ],
 "metadata": {
  "kernelspec": {
   "display_name": "Python 3 (ipykernel)",
   "language": "python",
   "name": "python3"
  },
  "language_info": {
   "codemirror_mode": {
    "name": "ipython",
    "version": 3
   },
   "file_extension": ".py",
   "mimetype": "text/x-python",
   "name": "python",
   "nbconvert_exporter": "python",
   "pygments_lexer": "ipython3",
   "version": "3.9.10"
  }
 },
 "nbformat": 4,
 "nbformat_minor": 5
}
